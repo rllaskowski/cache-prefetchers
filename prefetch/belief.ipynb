{
 "cells": [
  {
   "cell_type": "code",
   "execution_count": 8,
   "id": "db6bf422-436d-43b7-a7b9-62da23c29f3d",
   "metadata": {},
   "outputs": [],
   "source": [
    "''' \n",
    "implementation of the belief algorithm\n",
    "parameters: \n",
    "- kc: size of the cache\n",
    "- v: vote size \n",
    "- h: length of the time window\n",
    "- kt\n",
    "\n",
    "'''\n",
    "history_ex = [1,2,6,5,4,2,5,1,4,8,3,6,2,5,4,5,1,7,2,6,4,5,4,1,4,2,1,3,6,5,4,8,5,4,2,9,6,3,5,2,1,2,1,2,4,5,6,1,2,7,8,4]\n",
    "size_cache_ex = 4\n",
    "\n"
   ]
  },
  {
   "cell_type": "code",
   "execution_count": 19,
   "id": "f094ac17-a8ca-4a4d-b128-76a828be9ab6",
   "metadata": {},
   "outputs": [],
   "source": [
    "# comments: I had to guess the definition of two things that were not formally defined in the paper\n",
    "# this function can be implement in a way that we don't recalculate everything for each current element\n",
    "\n",
    "def calcul_beliefs(history, h: int): \n",
    "    # we want to calculate the belief (x,o) that page x will be accessed during a time window of size h after after page o; \n",
    "    # to calculate this belief we use the previous pages requested history\n",
    "    out = dict()  # the function outputs a dictionnary indexed by (x,o) \n",
    "    popularity = dict() # we also need to count the 'popularity' of each x, ie the number of lenght-h windows in which x appear. UWAGA: it is not precisely defined in the paper, I had to guess\n",
    "    for i in range(len(history)-h): # in the paper, they only calculate the belief for full windows; I wonder if it is the right way to do: we could also consider calculating beliefs using partial window (of size less that h) at the end of the history\n",
    "        o = history[i]\n",
    "            \n",
    "        pages_to_appear_in_the_window = [] \n",
    "        for j in range(1,h+1):\n",
    "            x = history[i+j]\n",
    "            #updating counts for belief:\n",
    "            if (x,o) in out.keys(): \n",
    "                out[(x,o)]+=1\n",
    "            else:\n",
    "                out[(x,o)]=1\n",
    "            if x not in pages_to_appear_in_the_window:\n",
    "                pages_to_appear_in_the_window.append(x)\n",
    "        \n",
    "        # updating popularity:\n",
    "        for x in pages_to_appear_in_the_window:\n",
    "            if x in popularity.keys(): \n",
    "                popularity[x]+=1\n",
    "            else:\n",
    "                popularity[x]=1\n",
    "\n",
    "    # calculating the frequencies:\n",
    "    nb_occurrences = dict() # to compute the belief, we also need to count the number of occurences of the pages. UWAGA: it is not precisely defined in the paper, I had to guess\n",
    "    for x in history:\n",
    "        if x in nb_occurrences.keys(): \n",
    "            nb_occurrences[x]+=1\n",
    "        else:\n",
    "            nb_occurrences[x]=1\n",
    "    \n",
    "    # final calculation of the beliefs: \n",
    "    for (x,o) in out.keys():\n",
    "        out[(x,o)]=out[(x,o)]*nb_occurrences[x]/(nb_occurrences[o]*popularity[x])\n",
    "    \n",
    "    return out\n",
    "    \n",
    "    "
   ]
  },
  {
   "cell_type": "code",
   "execution_count": 32,
   "id": "e010dc08-c990-46ab-9ede-2db7bf8ac34f",
   "metadata": {},
   "outputs": [
    {
     "data": {
      "text/plain": [
       "{(2, 1): 0.26515151515151514,\n",
       " (6, 1): 0.17045454545454544,\n",
       " (5, 1): 0.10887096774193548,\n",
       " (4, 1): 0.3125,\n",
       " (6, 2): 0.13636363636363635,\n",
       " (5, 2): 0.26129032258064516,\n",
       " (4, 2): 0.21875,\n",
       " (2, 2): 0.12121212121212122,\n",
       " (5, 6): 0.3870967741935484,\n",
       " (4, 6): 0.2604166666666667,\n",
       " (2, 6): 0.20202020202020202,\n",
       " (4, 5): 0.2777777777777778,\n",
       " (2, 5): 0.2356902356902357,\n",
       " (5, 5): 0.0967741935483871,\n",
       " (1, 5): 0.28444444444444444,\n",
       " (2, 4): 0.24242424242424243,\n",
       " (5, 4): 0.14516129032258066,\n",
       " (1, 4): 0.224,\n",
       " (4, 4): 0.15625,\n",
       " (1, 2): 0.224,\n",
       " (8, 2): 0.03,\n",
       " (8, 5): 0.06666666666666667,\n",
       " (3, 5): 0.027777777777777776,\n",
       " (8, 1): 0.075,\n",
       " (3, 1): 0.09375,\n",
       " (8, 4): 0.06,\n",
       " (3, 4): 0.075,\n",
       " (6, 4): 0.10909090909090909,\n",
       " (3, 8): 0.08333333333333333,\n",
       " (6, 8): 0.09090909090909091,\n",
       " (2, 8): 0.20202020202020202,\n",
       " (5, 8): 0.1935483870967742,\n",
       " (6, 3): 0.18181818181818182,\n",
       " (2, 3): 0.30303030303030304,\n",
       " (5, 3): 0.2903225806451613,\n",
       " (4, 3): 0.20833333333333334,\n",
       " (7, 5): 0.09523809523809523,\n",
       " (7, 4): 0.02857142857142857,\n",
       " (6, 5): 0.09090909090909091,\n",
       " (7, 1): 0.07142857142857142,\n",
       " (2, 7): 0.15151515151515152,\n",
       " (6, 7): 0.13636363636363635,\n",
       " (4, 7): 0.15625,\n",
       " (5, 7): 0.14516129032258066,\n",
       " (1, 6): 0.16,\n",
       " (1, 1): 0.08,\n",
       " (3, 2): 0.05,\n",
       " (8, 3): 0.1,\n",
       " (8, 6): 0.1,\n",
       " (4, 8): 0.10416666666666667,\n",
       " (9, 8): 0.08333333333333333,\n",
       " (9, 5): 0.027777777777777776,\n",
       " (9, 4): 0.025,\n",
       " (9, 2): 0.025,\n",
       " (6, 9): 0.2727272727272727,\n",
       " (3, 9): 0.25,\n",
       " (5, 9): 0.2903225806451613,\n",
       " (2, 9): 0.30303030303030304,\n",
       " (3, 6): 0.041666666666666664,\n",
       " (1, 3): 0.10666666666666667,\n",
       " (7, 6): 0.047619047619047616}"
      ]
     },
     "execution_count": 32,
     "metadata": {},
     "output_type": "execute_result"
    }
   ],
   "source": [
    "# example:\n",
    "calcul_beliefs(history_ex,4)"
   ]
  },
  {
   "cell_type": "code",
   "execution_count": null,
   "id": "3a78c206-5eef-41e8-b43a-638e3d88ecdf",
   "metadata": {},
   "outputs": [],
   "source": [
    "def prefetch_suggest(history, current_cache, h: int, kc: int, v: int):\n",
    "    '''\n",
    "    parameters:\n",
    "    h: length of the time window for the calculation of beliefs values\n",
    "    kc: number of cache candidates\n",
    "    v: number of voters (comment: in the paper there is a typo, they seem to mix it with kc; thus, we may imagine that v=kc); v has to be at least one. \n",
    "    \n",
    "    '''\n",
    "    if len(history) == 0: \n",
    "        return []\n",
    "    o = history[-1] # the current page o (history has to contain at least one page)\n",
    "    if o not in history[:-(h+1)]: # if o has been requested before #UWAGA: not clear in the paper what is the right condition\n",
    "        return []\n",
    "    beliefs = calcul_beliefs(history, h) # we calculate the beliefs (in fact we just need those with index (x,o) for all x != o); comment: why not also x=o ?? this is not precised in the paper\n",
    "    # we create a list of kc cache candidates, that are not in the cache, and that have maximum belief (with respect to the current element o)\n",
    "    # comment: there are probably some smart functions to do that but I don't kwon, so I just re-implement it. UWAGA: this part can be improved later\n",
    "    cache_candidates = []\n",
    "    for x in history: \n",
    "        if x != o and (x,o) in beliefs.keys() and (x not in current_cache) and (x not in cache_candidates): \n",
    "            cache_candidates.append(x)\n",
    "        cache_candidates.sort(reverse=True, key = lambda x : beliefs[(x,o)])\n",
    "        cache_candidates = cache_candidates[:kc] # we keep at most kc candidates\n",
    "    \n",
    "    # now we calculate the maximum belief among v last access elements\n",
    "    maximum_belief = dict() # maximum_belief[x] corresponds to x_max in the paper (line 12)\n",
    "    for x in cache_candidates + current_cache:\n",
    "        maximum_belief[x]=beliefs[(x,o)]\n",
    "        for oo in history[-v:-1]: # for all voters, ie the last v accessed elements (in the history), except the current element that we already took into account \n",
    "            maximum_belief[x] = max(maximum_belief[x], beliefs[(x,oo)])\n",
    "    \n",
    "    sorted_list = cache_candidates + current_cache # we create a 'sorted list' as in line 14\n",
    "    sorted_list.sort(reverse=True, key = lambda x : maximum_belief[x]) # and we sort this list by decreasing maximum beliefs\n",
    "    \n",
    "    \n",
    "    \n",
    "    "
   ]
  },
  {
   "cell_type": "code",
   "execution_count": 38,
   "id": "6a771103-0bdf-49da-9a95-b696695aede6",
   "metadata": {},
   "outputs": [
    {
     "data": {
      "text/plain": [
       "[2, 6, 3]"
      ]
     },
     "execution_count": 38,
     "metadata": {},
     "output_type": "execute_result"
    }
   ],
   "source": [
    "# test area\n",
    "o = history_ex[-1]\n",
    "beliefs=calcul_beliefs(history_ex,4)\n",
    "cache_candidates = []\n",
    "for x in history_ex: \n",
    "        if x != o and (x,o) in beliefs.keys() and (x not in [5,1]) and (x not in cache_candidates): \n",
    "            cache_candidates.append(x)\n",
    "        cache_candidates.sort(reverse=True, key = lambda x : beliefs[(x,o)])\n",
    "        cache_candidates = cache_candidates\n",
    "cache_candidates"
   ]
  },
  {
   "cell_type": "code",
   "execution_count": 40,
   "id": "3156c511-b332-45ff-9ab9-5ab37dc67dc5",
   "metadata": {},
   "outputs": [
    {
     "data": {
      "text/plain": [
       "[5, 1]"
      ]
     },
     "execution_count": 40,
     "metadata": {},
     "output_type": "execute_result"
    }
   ],
   "source": [
    "[5,1,9,6,2,4,5,1,4][-3:-1]"
   ]
  },
  {
   "cell_type": "code",
   "execution_count": 27,
   "id": "018de826-d7f2-4b16-bfbd-b343190f08c3",
   "metadata": {},
   "outputs": [
    {
     "data": {
      "text/plain": [
       "2"
      ]
     },
     "execution_count": 27,
     "metadata": {},
     "output_type": "execute_result"
    }
   ],
   "source": [
    "(lambda x: x+x)(1)"
   ]
  },
  {
   "cell_type": "code",
   "execution_count": null,
   "id": "dd41cb07-7af2-4183-9e6c-210ffdee8379",
   "metadata": {},
   "outputs": [],
   "source": []
  }
 ],
 "metadata": {
  "kernelspec": {
   "display_name": "Python 3 (ipykernel)",
   "language": "python",
   "name": "python3"
  },
  "language_info": {
   "codemirror_mode": {
    "name": "ipython",
    "version": 3
   },
   "file_extension": ".py",
   "mimetype": "text/x-python",
   "name": "python",
   "nbconvert_exporter": "python",
   "pygments_lexer": "ipython3",
   "version": "3.9.7"
  }
 },
 "nbformat": 4,
 "nbformat_minor": 5
}
