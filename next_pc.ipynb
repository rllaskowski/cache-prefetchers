{
 "cells": [
  {
   "cell_type": "code",
   "execution_count": 7,
   "metadata": {},
   "outputs": [
    {
     "name": "stdout",
     "output_type": "stream",
     "text": [
      "The autoreload extension is already loaded. To reload it, use:\n",
      "  %reload_ext autoreload\n"
     ]
    }
   ],
   "source": [
    "%load_ext autoreload\n",
    "%autoreload 3"
   ]
  },
  {
   "cell_type": "code",
   "execution_count": 8,
   "metadata": {},
   "outputs": [
    {
     "name": "stdout",
     "output_type": "stream",
     "text": [
      "Number of pcs: 81\n",
      "Number of addrs: 39\n"
     ]
    }
   ],
   "source": [
    "from pinatrace_dataset import read_trace as pin_read_trace\n",
    "\n",
    "trace = pin_read_trace()\n",
    "\n",
    "pcs = list(set(t[0] for t in trace))\n",
    "addrs = list(set(t[2] for t in trace))\n",
    "\n",
    "print(f\"Number of pcs: {len(pcs)}\")\n",
    "print(f\"Number of addrs: {len(addrs)}\")"
   ]
  },
  {
   "cell_type": "code",
   "execution_count": null,
   "metadata": {},
   "outputs": [],
   "source": []
  },
  {
   "cell_type": "code",
   "execution_count": 40,
   "metadata": {},
   "outputs": [
    {
     "name": "stderr",
     "output_type": "stream",
     "text": [
      "100%|██████████| 260078/260078 [01:37<00:00, 2656.98it/s, loss=4.45]\n"
     ]
    }
   ],
   "source": [
    "from rnn import PCRnn, train_model\n",
    "from collections import deque\n",
    "from mapping import Mapping\n",
    "import torch\n",
    "import tqdm\n",
    "\n",
    "\n",
    "pc_mapping = Mapping(max_size=100)\n",
    "\n",
    "train_config = dict(\n",
    "    wd=1e-4,\n",
    "    history_size=8,\n",
    "    pc_mapping=pc_mapping,\n",
    "    sequence_rw=trace,\n",
    "    train_samples=100,\n",
    ")\n",
    "model_config = dict(\n",
    "    pc_emb_size=4,\n",
    "    hidden_size=64,\n",
    "    dropout=0.1,\n",
    "    pc_mapping=pc_mapping,\n",
    "    rnn_layers=2,\n",
    ")\n",
    "model = PCRnn(**model_config)\n",
    "optimizer = torch.optim.AdamW(model.parameters(), lr=1e-4, weight_decay=1e-3)\n",
    "\n",
    "\n",
    "samples = []\n",
    "current = deque(maxlen=train_config['history_size'])\n",
    "bar = tqdm.tqdm(enumerate(trace), total=len(trace))\n",
    "previous_pc = None\n",
    "loss = float('inf')\n",
    "for t, (pc, _, _) in bar:\n",
    "    pc = pc_mapping(pc)\n",
    "    if len(current) == train_config['history_size']:\n",
    "        samples.append({'pc_history': list(current), 'next_pc': pc})\n",
    "\n",
    "    if len(samples) == train_config['train_samples']:\n",
    "        #print(samples[-1])\n",
    "        loss = train_model(model, optimizer, samples)\n",
    "        bar.set_postfix(loss=loss)\n",
    "        samples = []\n",
    "\n",
    "    current.append(pc)"
   ]
  }
 ],
 "metadata": {
  "kernelspec": {
   "display_name": "Python 3",
   "language": "python",
   "name": "python3"
  },
  "language_info": {
   "codemirror_mode": {
    "name": "ipython",
    "version": 3
   },
   "file_extension": ".py",
   "mimetype": "text/x-python",
   "name": "python",
   "nbconvert_exporter": "python",
   "pygments_lexer": "ipython3",
   "version": "3.10.11"
  }
 },
 "nbformat": 4,
 "nbformat_minor": 2
}
